{
 "cells": [
  {
   "cell_type": "code",
   "execution_count": 1,
   "id": "bc44a860",
   "metadata": {},
   "outputs": [
    {
     "name": "stdout",
     "output_type": "stream",
     "text": [
      "Welcome to Anagrams!\n"
     ]
    }
   ],
   "source": [
    "print(\"Welcome to Anagrams!\")"
   ]
  },
  {
   "cell_type": "code",
   "execution_count": 2,
   "id": "6f0d53eb",
   "metadata": {},
   "outputs": [
    {
     "name": "stdout",
     "output_type": "stream",
     "text": [
      "Enter the number of letters (6 or 7): 7\n",
      "Letters:  fekrvzy\n",
      "You have 1 minute to make words using these letters.\n",
      "Enter a word (press enter to exit): rev\n",
      "Enter a word (press enter to exit): very\n",
      "Enter a word (press enter to exit): very\n",
      "You already entered that word.\n",
      "\n",
      "Time's up!\n",
      "You made 2 words:\n",
      "rev\n",
      "very\n",
      "Your total score is: 7\n",
      "Do you want to play again? (yes/no): no\n"
     ]
    }
   ],
   "source": [
    "import requests\n",
    "import random\n",
    "import string\n",
    "import time\n",
    "\n",
    "def generate_letters(num_letters):\n",
    "    letters = ''.join(random.choices(string.ascii_lowercase, k=num_letters))\n",
    "    return letters\n",
    "\n",
    "def is_valid_word(word):\n",
    "    response = requests.get(\"https://api.dictionaryapi.dev/api/v2/entries/en_US/{}\".format(word))\n",
    "    if response.status_code == 200:\n",
    "        data = response.json()\n",
    "        # Check if the response contains a valid definition for the word\n",
    "        if isinstance(data, list) and len(data) > 0:\n",
    "            return True\n",
    "    return False\n",
    "\n",
    "def calculate_score(word):\n",
    "    return len(word)\n",
    "\n",
    "def get_words():\n",
    "    while True:\n",
    "        try:\n",
    "            num_letters = int(input(\"Enter the number of letters (6 or 7): \"))\n",
    "            if num_letters not in [6, 7]:\n",
    "                print(\"Invalid number of letters. Please enter either 6 or 7.\")\n",
    "                continue\n",
    "            letters = generate_letters(num_letters)\n",
    "            print(\"Letters: \", letters)\n",
    "            print(\"You have 1 minute to make words using these letters.\")\n",
    "            start_time = time.time()\n",
    "            end_time = start_time + 60\n",
    "            words = set()\n",
    "            total_score = 0\n",
    "            while time.time() < end_time:\n",
    "                word = input(\"Enter a word (press enter to exit): \").lower()\n",
    "                if word == \"\":\n",
    "                    break\n",
    "                if word in words:\n",
    "                    print(\"You already entered that word.\")\n",
    "                    continue\n",
    "                if set(word).issubset(set(letters)) and len(word) >= 3 and is_valid_word(word):\n",
    "                    words.add(word)\n",
    "                    total_score += calculate_score(word)\n",
    "                else:\n",
    "                    print(\"Invalid word. Make sure to use only the given letters, have a minimum length of 3, and be a valid English word.\")\n",
    "\n",
    "            print(\"\\nTime's up!\")\n",
    "            print(\"You made {} words:\".format(len(words)))\n",
    "            for word in sorted(words):\n",
    "                print(word)\n",
    "            print(\"Your total score is:\", total_score)\n",
    "\n",
    "            if input(\"Do you want to play again? (yes/no): \").lower() != 'yes':\n",
    "                break\n",
    "        except ValueError:\n",
    "            print(\"Invalid input. Please enter a number.\")\n",
    "\n",
    "if __name__ == \"__main__\":\n",
    "    get_words()\n"
   ]
  },
  {
   "cell_type": "code",
   "execution_count": null,
   "id": "020c6f67",
   "metadata": {},
   "outputs": [],
   "source": []
  }
 ],
 "metadata": {
  "kernelspec": {
   "display_name": "Python 3 (ipykernel)",
   "language": "python",
   "name": "python3"
  },
  "language_info": {
   "codemirror_mode": {
    "name": "ipython",
    "version": 3
   },
   "file_extension": ".py",
   "mimetype": "text/x-python",
   "name": "python",
   "nbconvert_exporter": "python",
   "pygments_lexer": "ipython3",
   "version": "3.9.13"
  }
 },
 "nbformat": 4,
 "nbformat_minor": 5
}
